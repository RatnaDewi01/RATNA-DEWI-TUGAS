{
  "nbformat": 4,
  "nbformat_minor": 0,
  "metadata": {
    "colab": {
      "name": "Untitled26.ipynb",
      "provenance": [],
      "collapsed_sections": [],
      "toc_visible": true
    },
    "kernelspec": {
      "name": "python3",
      "display_name": "Python 3"
    },
    "language_info": {
      "name": "python"
    }
  },
  "cells": [
    {
      "cell_type": "code",
      "execution_count": 6,
      "metadata": {
        "colab": {
          "base_uri": "https://localhost:8080/"
        },
        "id": "BeJ1b99Smiz9",
        "outputId": "547f2e93-1619-4a3d-b133-3067bf938d89"
      },
      "outputs": [
        {
          "output_type": "stream",
          "name": "stdout",
          "text": [
            " tumpukan ukuran sendal pada rak \n",
            "ukuran sendal yang yang berada pada tumpukan saat ini:   [35, 36, 37]\n",
            "jumlah sendal pada rak: 3\n",
            "ukuran sendal yang teratas: 37\n",
            "\n",
            "ukuran sendal yang diambil: 37\n",
            "ukuran sendal yang diambil: 36\n",
            "ukuran sendal yang diambil: 35\n",
            "ukuran sendal yang yang berada pada tumpukan saat ini:   []\n",
            " tidak terdefenisi\n",
            "jumlah sendal pada rak: 0\n",
            "\n",
            "35\n",
            "ukuran sendal yang dikembalikan: 35\n",
            "36\n",
            "ukuran sendal yang dikembalikan: 36\n",
            "37\n",
            "ukuran sendal yang dikembalikan: 37\n",
            "ukuran sendal yang yang berada pada tumpukan saat ini:   ['35', '36', '37']\n"
          ]
        }
      ],
      "source": [
        "def bikin_stack () :\n",
        "\t\tstack = [35,36,37]\n",
        "\t\treturn stack\n",
        "\t\t\n",
        "def periksa_empty ( stack ) :\n",
        "\t\treturn len (stack) == 0\n",
        "\t\t\n",
        "def push ( stack,item ):\n",
        "\t\tstack.append (item)\n",
        "\t\tprint (\"ukuran sendal yang dikembalikan:\",item)\n",
        "\t\t\n",
        "def pop (stack) :\n",
        "\t\tif (periksa_empty (stack)) :\n",
        "\t\t\treturn print (\"ukuran sendal pada rak yang kosong\")\n",
        "\t\tprint (\"ukuran sendal yang diambil:\",stack.pop())\n",
        "\t\t\n",
        "def size (stack) :\n",
        "\t\tprint (\"jumlah sendal pada rak:\" ,len(stack))\n",
        "\t\t\n",
        "def top (stack):\n",
        "\t\ttop = len (stack) -1\n",
        "\t\tif top < 0 :\n",
        "\t\t\tprint (\" tidak terdefenisi\")\n",
        "\t\telse :\n",
        "\t\t\tprint (\"ukuran sendal yang teratas:\" , stack [top])\n",
        "\t\t\t\n",
        "def tampilkan (stack) :\n",
        "\t\tprint (stack)\n",
        "\t\t\n",
        "\t\t\t\n",
        "s = bikin_stack ()\n",
        "print (\" tumpukan ukuran sendal pada rak \")\n",
        "\n",
        "\n",
        "#Data awal stack\n",
        "print (\"ukuran sendal yang yang berada pada tumpukan saat ini:  \",s) \n",
        "\n",
        "size (s)\n",
        "top (s)\n",
        "print ()\n",
        "\n",
        "#Meminjam ukuran sendal\n",
        "pop (s)\n",
        "pop (s)\n",
        "pop (s)\n",
        "print (\"ukuran sendal yang yang berada pada tumpukan saat ini:  \",s) \n",
        "top (s)\n",
        "size (s)\n",
        "print ()\n",
        "\n",
        "#Mengembalikan ukuran sendal\n",
        "push (s,input())\n",
        "push (s,input())\n",
        "push (s,input ())\n",
        "print (\"ukuran sendal yang yang berada pada tumpukan saat ini:  \",s)"
      ]
    },
    {
      "cell_type": "code",
      "source": [
        "queue = []\n",
        "max_size = int(input(\"Masukkan Ukuran Maksimal Queue: \"))\n",
        "\n",
        "def isEmpty():\n",
        "\tif len(queue) == 0:\n",
        "\t\tprint(\"Queue Kosong.\")\n",
        "\t\treturn True\n",
        "\treturn False\n",
        "\t\n",
        "def isFull():\n",
        "\tif len(queue) == max_size:\n",
        "\t\tprint(\"Queue Penuh.\")\n",
        "\t\treturn True\n",
        "\treturn False\n",
        "\t\t\n",
        "def dequeue():\n",
        "\tif isEmpty() == False:\n",
        "\t\tprint(queue.pop(0), \"terhapus dari queue.\")\n",
        "\n",
        "def enqueue():\n",
        "\tif isFull() == False:\n",
        "\t\tx = input(\"Masukkan Antrian Baru: \")\n",
        "\t\tqueue.append(x)\n",
        "\t\tprint(x, \"ditambahkan ke queue.\")\n",
        "\n",
        "p = 0\n",
        "while p != '6':\n",
        "    print('''\\n1. Enqueue => Menambah Antrian\n",
        "2. Dequeue => Menghapus dari Antrian\n",
        "3. Full => Memeriksa Apakah Queue Penuh\n",
        "4. Size => Melihat Ukuran Queue''')\n",
        "    p = input(\"Ketik 6 untuk berhenti\\nMasukkan Perintah: \")\n",
        "    print()\n",
        "    \n",
        "    if p == '1':\n",
        "    \tenqueue()\n",
        "    elif p == '2':\n",
        "    \tdequeue()\n",
        "    elif p == '3':\n",
        "    \tif isFull() == False:\n",
        "    \t\tprint(\"Queue belum penuh.\")\n",
        "    elif p == '4':\n",
        "    \tprint(\"Ukuran queue saat ini: \", len(queue), \"\\nUkuran maksimal queue: \", max_size)"
      ],
      "metadata": {
        "id": "nVKh87zGs-wR",
        "colab": {
          "base_uri": "https://localhost:8080/"
        },
        "outputId": "c9e17a8f-2219-4c8c-a1c9-4a16c2c2f32d"
      },
      "execution_count": 8,
      "outputs": [
        {
          "output_type": "stream",
          "name": "stdout",
          "text": [
            "Masukkan Ukuran Maksimal Queue: 2\n",
            "\n",
            "1. Enqueue => Menambah Antrian\n",
            "2. Dequeue => Menghapus dari Antrian\n",
            "3. Full => Memeriksa Apakah Queue Penuh\n",
            "4. Size => Melihat Ukuran Queue\n",
            "Ketik 6 untuk berhenti\n",
            "Masukkan Perintah: pop\n",
            "\n",
            "\n",
            "1. Enqueue => Menambah Antrian\n",
            "2. Dequeue => Menghapus dari Antrian\n",
            "3. Full => Memeriksa Apakah Queue Penuh\n",
            "4. Size => Melihat Ukuran Queue\n",
            "Ketik 6 untuk berhenti\n",
            "Masukkan Perintah: 6\n",
            "\n"
          ]
        }
      ]
    }
  ]
}