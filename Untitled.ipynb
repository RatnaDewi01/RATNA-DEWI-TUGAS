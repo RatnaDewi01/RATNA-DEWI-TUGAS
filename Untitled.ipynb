{
  "nbformat": 4,
  "nbformat_minor": 0,
  "metadata": {
    "colab": {
      "name": "Untitled",
      "provenance": []
    },
    "kernelspec": {
      "name": "python3",
      "display_name": "Python 3"
    },
    "language_info": {
      "name": "python"
    }
  },
  "cells": [
    {
      "cell_type": "markdown",
      "source": [
        "Nama : Ratna Dewi Nim :D0221110 Kelas:Informatika H"
      ],
      "metadata": {
        "id": "94ZQuFvU1gr6"
      }
    },
    {
      "cell_type": "markdown",
      "source": [
        "LIST"
      ],
      "metadata": {
        "id": "W1ZQkh-w2MTs"
      }
    },
    {
      "cell_type": "markdown",
      "source": [
        "menampilkan nilai menggunakkan perulangan"
      ],
      "metadata": {
        "id": "1u6TVrHq3J6l"
      }
    },
    {
      "cell_type": "code",
      "source": [
        "hewan = ['kambing', 'gajah', 'jerapah', 'kuda']\n",
        "for a in hewan :\n",
        "  print (a)"
      ],
      "metadata": {
        "colab": {
          "base_uri": "https://localhost:8080/"
        },
        "id": "xAXonZIT2bN_",
        "outputId": "a9f0a47c-0109-4aa9-9691-1fdfefda29c6"
      },
      "execution_count": 1,
      "outputs": [
        {
          "output_type": "stream",
          "name": "stdout",
          "text": [
            "kambing\n",
            "gajah\n",
            "jerapah\n",
            "kuda\n"
          ]
        }
      ]
    },
    {
      "cell_type": "markdown",
      "source": [
        "mengupdate salah satu value"
      ],
      "metadata": {
        "id": "RX5iGLtN7FBa"
      }
    },
    {
      "cell_type": "code",
      "source": [
        "hewan = ['kambing', 'gajah', 'jerapah', 'kuda']\n",
        "hewan[0] = 'sapi'\n",
        "for a in hewan :\n",
        "  print (a)"
      ],
      "metadata": {
        "colab": {
          "base_uri": "https://localhost:8080/"
        },
        "id": "hHH2062q7Jve",
        "outputId": "9ddf3bdd-b72f-43ae-c647-716df4498952"
      },
      "execution_count": 5,
      "outputs": [
        {
          "output_type": "stream",
          "name": "stdout",
          "text": [
            "sapi\n",
            "gajah\n",
            "jerapah\n",
            "kuda\n"
          ]
        }
      ]
    },
    {
      "cell_type": "markdown",
      "source": [
        "menghapus salah satu nilai"
      ],
      "metadata": {
        "id": "EYeNK0Nl8rfe"
      }
    },
    {
      "cell_type": "code",
      "source": [
        "hewan = ['kambing', 'gajah', 'jerapah', 'kuda']\n",
        "hewan.remove('jerapah')\n",
        "for a in hewan :\n",
        "  print (a)"
      ],
      "metadata": {
        "colab": {
          "base_uri": "https://localhost:8080/"
        },
        "id": "msHj0t2K8vLN",
        "outputId": "4261eaf3-db6b-4400-930f-4551dacefc16"
      },
      "execution_count": 8,
      "outputs": [
        {
          "output_type": "stream",
          "name": "stdout",
          "text": [
            "kambing\n",
            "gajah\n",
            "kuda\n"
          ]
        }
      ]
    },
    {
      "cell_type": "markdown",
      "source": [
        "menambahkan value"
      ],
      "metadata": {
        "id": "ZdK4xaVy9QTh"
      }
    },
    {
      "cell_type": "code",
      "source": [
        "hewan = ['kambing', 'gajah', 'jerapah', 'kuda']\n",
        "hewan.insert(0, 'sapi')\n",
        "for a in hewan :\n",
        "  print (a)"
      ],
      "metadata": {
        "colab": {
          "base_uri": "https://localhost:8080/"
        },
        "id": "0VnSF6YE9S6G",
        "outputId": "ac684d37-8cbc-4633-b43f-1632cb37f376"
      },
      "execution_count": 9,
      "outputs": [
        {
          "output_type": "stream",
          "name": "stdout",
          "text": [
            "sapi\n",
            "kambing\n",
            "gajah\n",
            "jerapah\n",
            "kuda\n"
          ]
        }
      ]
    },
    {
      "cell_type": "markdown",
      "source": [
        "TUPLE"
      ],
      "metadata": {
        "id": "Z80GLDLo9ru3"
      }
    },
    {
      "cell_type": "markdown",
      "source": [
        "menghasilkan value menggunakan perulangan"
      ],
      "metadata": {
        "id": "WZiaxuud97ts"
      }
    },
    {
      "cell_type": "code",
      "source": [
        "hewan = ('kambing', 'gajah', 'jerapah','kuda')\n",
        "for b in hewan :\n",
        "  print (b)\n"
      ],
      "metadata": {
        "colab": {
          "base_uri": "https://localhost:8080/"
        },
        "id": "NQDgDsBL-DCK",
        "outputId": "98ba7d5f-7515-4e8d-d9bc-0581393278b8"
      },
      "execution_count": 10,
      "outputs": [
        {
          "output_type": "stream",
          "name": "stdout",
          "text": [
            "kambing\n",
            "gajah\n",
            "jerapah\n",
            "kuda\n"
          ]
        }
      ]
    },
    {
      "cell_type": "markdown",
      "source": [
        "DICTIONARY"
      ],
      "metadata": {
        "id": "0xUp3AFK-_ge"
      }
    },
    {
      "cell_type": "markdown",
      "source": [
        "menampilkan value menggunakan perulangan"
      ],
      "metadata": {
        "id": "KkJ9HRg4_D7P"
      }
    },
    {
      "cell_type": "code",
      "source": [
        "biodata = {\n",
        "    'nama' : 'Ratnadewi',\n",
        "    'alamat' : 'laliko',\n",
        "    'agama' : 'islam'\n",
        "}\n",
        "for key,value in biodata.items():\n",
        "  print(key,':',value)"
      ],
      "metadata": {
        "colab": {
          "base_uri": "https://localhost:8080/"
        },
        "id": "bA_VbqZPAeeY",
        "outputId": "385c2bef-8400-4583-d733-8c72298359f2"
      },
      "execution_count": 23,
      "outputs": [
        {
          "output_type": "stream",
          "name": "stdout",
          "text": [
            "nama : Ratnadewi\n",
            "alamat : laliko\n",
            "agama : islam\n"
          ]
        }
      ]
    },
    {
      "cell_type": "markdown",
      "source": [
        "mengupdate salah satu value"
      ],
      "metadata": {
        "id": "bJJRgR9jExTa"
      }
    },
    {
      "cell_type": "code",
      "source": [
        "biodata = {\n",
        "    'nama' : 'Ratnadewi',\n",
        "    'alamat' : 'laliko',\n",
        "    'agama' : 'islam'\n",
        "}\n",
        "biodata ['nama'] = 'Ratnadewi'\n",
        "for key,value in biodata.items():\n",
        "  print (key,':',value)"
      ],
      "metadata": {
        "colab": {
          "base_uri": "https://localhost:8080/"
        },
        "id": "tVSh3ep6E7aT",
        "outputId": "10d8ad81-bbc2-4c62-8c64-63fa2e616aa8"
      },
      "execution_count": 24,
      "outputs": [
        {
          "output_type": "stream",
          "name": "stdout",
          "text": [
            "nama : Ratnadewi\n",
            "alamat : laliko\n",
            "agama : islam\n"
          ]
        }
      ]
    },
    {
      "cell_type": "markdown",
      "source": [
        "menghapus salah satu value"
      ],
      "metadata": {
        "id": "XiVcGBa6Fu9y"
      }
    },
    {
      "cell_type": "code",
      "source": [
        "biodata = {\n",
        "    'nama' : 'Ratnadewi',\n",
        "    'alamat' : 'laliko',\n",
        "    'agama' : 'islam'\n",
        "}\n",
        "biodata.pop('agama')\n",
        "for key,value in biodata.items():\n",
        "  print (key,':',value)"
      ],
      "metadata": {
        "colab": {
          "base_uri": "https://localhost:8080/"
        },
        "id": "MX0UV74CFzoA",
        "outputId": "540358e5-684a-4caa-f02f-663868e96791"
      },
      "execution_count": 25,
      "outputs": [
        {
          "output_type": "stream",
          "name": "stdout",
          "text": [
            "nama : Ratnadewi\n",
            "alamat : laliko\n"
          ]
        }
      ]
    },
    {
      "cell_type": "markdown",
      "source": [
        "menambahkan value"
      ],
      "metadata": {
        "id": "RHblOpjQGc7a"
      }
    },
    {
      "cell_type": "code",
      "source": [
        "biodata = {\n",
        "    'nama' : 'Ratnadewi',\n",
        "    'alamat' : 'laliko',\n",
        "    'agama' : 'islam'\n",
        "}\n",
        "biodata['hobi'] = 'membaca'\n",
        "for key,value in biodata.items():\n",
        "  print (key,':',value)"
      ],
      "metadata": {
        "colab": {
          "base_uri": "https://localhost:8080/"
        },
        "id": "W-XRkBVgGgHk",
        "outputId": "3ca01dd7-9296-4ee5-aa0a-4f5abe8ef6c7"
      },
      "execution_count": 26,
      "outputs": [
        {
          "output_type": "stream",
          "name": "stdout",
          "text": [
            "nama : Ratnadewi\n",
            "alamat : laliko\n",
            "agama : islam\n",
            "hobi : membaca\n"
          ]
        }
      ]
    },
    {
      "cell_type": "markdown",
      "source": [
        "SET"
      ],
      "metadata": {
        "id": "byA-kVswHefv"
      }
    },
    {
      "cell_type": "markdown",
      "source": [
        "menampilkan nilai menggunakan perulangan"
      ],
      "metadata": {
        "id": "Qmu2CgBQHgPw"
      }
    },
    {
      "cell_type": "code",
      "source": [
        "buah = {'jeruk', 'mangga', 'anggur', 'apel', 'ceri'}\n",
        "for c in buah :\n",
        "  print (c)"
      ],
      "metadata": {
        "colab": {
          "base_uri": "https://localhost:8080/"
        },
        "id": "AK13MHjfHx3L",
        "outputId": "fbc7efb1-7364-44b0-b927-194bfeb73026"
      },
      "execution_count": 27,
      "outputs": [
        {
          "output_type": "stream",
          "name": "stdout",
          "text": [
            "anggur\n",
            "jeruk\n",
            "mangga\n",
            "apel\n",
            "ceri\n"
          ]
        }
      ]
    },
    {
      "cell_type": "markdown",
      "source": [
        "menghapus salah satu nilai"
      ],
      "metadata": {
        "id": "iXd1CKVKILtZ"
      }
    },
    {
      "cell_type": "code",
      "source": [
        "buah = {'jeruk', 'mangga', 'anggur', 'apel', 'ceri'}\n",
        "buah.remove('jeruk')\n",
        "for c in buah :\n",
        "  print (c)"
      ],
      "metadata": {
        "colab": {
          "base_uri": "https://localhost:8080/"
        },
        "id": "oX1xTux1IQ6G",
        "outputId": "de977862-afe7-48ce-9bf8-fb7e096bc01b"
      },
      "execution_count": 28,
      "outputs": [
        {
          "output_type": "stream",
          "name": "stdout",
          "text": [
            "anggur\n",
            "mangga\n",
            "apel\n",
            "ceri\n"
          ]
        }
      ]
    },
    {
      "cell_type": "markdown",
      "source": [
        "menambahkan value"
      ],
      "metadata": {
        "id": "4hNMFK8QIvDH"
      }
    },
    {
      "cell_type": "code",
      "source": [
        "buah = {'jeruk', 'mangga', 'anggur', 'apel', 'ceri'}\n",
        "buah.add('leci')\n",
        "for c in buah :\n",
        "  print (c)"
      ],
      "metadata": {
        "colab": {
          "base_uri": "https://localhost:8080/"
        },
        "id": "vJ1xHyRQIyLc",
        "outputId": "d3565b46-6813-4395-8b25-2cd5af89af66"
      },
      "execution_count": 29,
      "outputs": [
        {
          "output_type": "stream",
          "name": "stdout",
          "text": [
            "anggur\n",
            "leci\n",
            "jeruk\n",
            "mangga\n",
            "apel\n",
            "ceri\n"
          ]
        }
      ]
    }
  ]
}