{
  "nbformat": 4,
  "nbformat_minor": 0,
  "metadata": {
    "colab": {
      "name": "Untitled25.ipynb",
      "provenance": [],
      "collapsed_sections": [],
      "toc_visible": true
    },
    "kernelspec": {
      "name": "python3",
      "display_name": "Python 3"
    },
    "language_info": {
      "name": "python"
    }
  },
  "cells": [
    {
      "cell_type": "markdown",
      "source": [
        "Nama : Ratna Dewi\n",
        "Nim : D0221110\n",
        "Kelas : informatika H"
      ],
      "metadata": {
        "id": "KFZ9DY3mAvNU"
      }
    },
    {
      "cell_type": "markdown",
      "source": [
        "membuat satu program barang untuk menampung barang yang di input\n",
        "1. menambahkan barang\n",
        "2. menghapus barang\n",
        "3. mengedit barang\n",
        "4. menampilkan barang\n",
        "5. memeriksa barang\n",
        "6. mencari indeks"
      ],
      "metadata": {
        "id": "JH3Uh_h-CfdB"
      }
    },
    {
      "cell_type": "code",
      "source": [
        "barang = []\n",
        "\n",
        "while True:\n",
        "  print('''1. Menambah\n",
        "2. Menghapus\n",
        "3. Mengedit\n",
        "4. Menampilkan\n",
        "5. Memeriksa Barang\n",
        "6. Mencari Index''')\n",
        "  perintah = input(\"Masukkan Perintah: \")\n",
        "\n",
        "  if perintah == '1':\n",
        "    tmb = input(\"Masukkan Barang: \")\n",
        "    barang.append(tmb)\n",
        "  elif perintah == '2':\n",
        "    hps = input(\"Masukkan Barang yang akan dihapus: \")\n",
        "    barang.remove(hps)\n",
        "  elif perintah == '3':\n",
        "    edit = input(\"Masukkan Barang yang akan diedit: \")\n",
        "    index = None\n",
        "    for i in range(len(barang)):\n",
        "      if barang [i] == edit:\n",
        "        index = i\n",
        "\n",
        "    if index == None:\n",
        "      print(\"Barang tidak ditemukan.\")\n",
        "    else:\n",
        "      barang [index] = input(\"Masukkan Barang yang Baru: \")\n",
        "  elif perintah == '4':\n",
        "    print(barang)\n",
        "  elif perintah == '5':\n",
        "    cari = input(\"Masukkan Barang yang dicari: \")\n",
        "    flag = False\n",
        "\n",
        "    for i in range(len(barang)):\n",
        "      if barang [i] == cari:\n",
        "        print(\"Barang ditemukan\")\n",
        "        flag = True\n",
        "\n",
        "    if flag == False:\n",
        "      print(\"Barang tidak ditemukan\")\n",
        "  elif perintah == '6':\n",
        "    cariz = input(\"Masukkan Barang yang akan dicari indexnya: \")\n",
        "    index = None\n",
        "    for i in range(len(barang)):\n",
        "      if barang [i] == cariz:\n",
        "        index = i\n",
        "\n",
        "    if index == None:\n",
        "      print(\"Barang tidak ditemukan.\")\n",
        "    else:\n",
        "      print(\"{} ada pada index ke-{}\". format(cariz, index))\n",
        "  else:\n",
        "    break\n",
        "\n",
        "\n",
        "\n",
        "print(\"Program Berhenti. Selamat Tinggal\")"
      ],
      "metadata": {
        "id": "3TRIKGwZDF5e",
        "colab": {
          "base_uri": "https://localhost:8080/"
        },
        "outputId": "c75238f6-af3e-4f9d-a976-d36876e51593"
      },
      "execution_count": 6,
      "outputs": [
        {
          "output_type": "stream",
          "name": "stdout",
          "text": [
            "1. Menambah\n",
            "2. Menghapus\n",
            "3. Mengedit\n",
            "4. Menampilkan\n",
            "5. Memeriksa Barang\n",
            "6. Mencari Index\n",
            "Masukkan Perintah: stop\n",
            "Program Berhenti. Selamat Tinggal\n"
          ]
        }
      ]
    }
  ]
}