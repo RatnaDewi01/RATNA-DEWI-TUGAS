{
  "nbformat": 4,
  "nbformat_minor": 0,
  "metadata": {
    "colab": {
      "name": "Untitled0.ipynb",
      "provenance": [],
      "collapsed_sections": []
    },
    "kernelspec": {
      "name": "python3",
      "display_name": "Python 3"
    },
    "language_info": {
      "name": "python"
    }
  },
  "cells": [
    {
      "cell_type": "markdown",
      "source": [
        "Nama : RATNA DEWI\n",
        "Nim :D0221110\n",
        "Kelas :Informatika H"
      ],
      "metadata": {
        "id": "5l83hWsx9kvd"
      }
    },
    {
      "cell_type": "markdown",
      "source": [
        "Type pada python"
      ],
      "metadata": {
        "id": "jPjqxgXRtq4z"
      }
    },
    {
      "cell_type": "code",
      "source": [
        "angka = 80\n",
        "print (angka)\n",
        "print (type(angka))"
      ],
      "metadata": {
        "colab": {
          "base_uri": "https://localhost:8080/"
        },
        "id": "5NsjqmndtuM1",
        "outputId": "5c182f23-b7b5-475d-81b0-cbf6fb3def5b"
      },
      "execution_count": null,
      "outputs": [
        {
          "output_type": "stream",
          "name": "stdout",
          "text": [
            "80\n",
            "<class 'int'>\n"
          ]
        }
      ]
    },
    {
      "cell_type": "code",
      "source": [
        "nilai = 2.5\n",
        "print (nilai)\n",
        "print (type(nilai))"
      ],
      "metadata": {
        "colab": {
          "base_uri": "https://localhost:8080/"
        },
        "id": "9bA3ejnat6Et",
        "outputId": "b17b7ffe-272b-4468-9b14-592eeafd3b94"
      },
      "execution_count": null,
      "outputs": [
        {
          "output_type": "stream",
          "name": "stdout",
          "text": [
            "2.5\n",
            "<class 'float'>\n"
          ]
        }
      ]
    },
    {
      "cell_type": "code",
      "source": [
        "angka =4<=8\n",
        "print (angka)\n",
        "print (type(angka))"
      ],
      "metadata": {
        "colab": {
          "base_uri": "https://localhost:8080/"
        },
        "id": "yxDoVuYruO1I",
        "outputId": "12ef4edb-8ed9-42eb-ac20-dc186677f83c"
      },
      "execution_count": null,
      "outputs": [
        {
          "output_type": "stream",
          "name": "stdout",
          "text": [
            "True\n",
            "<class 'bool'>\n"
          ]
        }
      ]
    },
    {
      "cell_type": "code",
      "source": [
        "nama = \"ratnadewi\"\n",
        "print (nama)\n",
        "print (type(nama))"
      ],
      "metadata": {
        "colab": {
          "base_uri": "https://localhost:8080/"
        },
        "id": "SOUY7xzyuh0t",
        "outputId": "7394e0a6-191c-4277-8419-88cb521bdaa3"
      },
      "execution_count": null,
      "outputs": [
        {
          "output_type": "stream",
          "name": "stdout",
          "text": [
            "ratnadewi\n",
            "<class 'str'>\n"
          ]
        }
      ]
    },
    {
      "cell_type": "code",
      "source": [
        "nama = input(\"masukkan nama\")\n",
        "print(\"nama saya\".format(nama))"
      ],
      "metadata": {
        "colab": {
          "base_uri": "https://localhost:8080/"
        },
        "id": "1HntpJvmuu4P",
        "outputId": "50837bfd-14d8-4bfe-deeb-3ab0cacfe981"
      },
      "execution_count": null,
      "outputs": [
        {
          "output_type": "stream",
          "name": "stdout",
          "text": [
            "masukkan namaratna\n",
            "nama saya\n"
          ]
        }
      ]
    },
    {
      "cell_type": "markdown",
      "source": [
        "operator aritmatika"
      ],
      "metadata": {
        "id": "daejj7eVvMrK"
      }
    },
    {
      "cell_type": "code",
      "source": [
        "nilai1 = 20\n",
        "nilai2 = 5\n",
        "\n",
        "print (nilai1+nilai2)\n",
        "print (nilai1-nilai2)\n",
        "print (nilai1*nilai2)\n",
        "print (nilai1/nilai2)\n",
        "print (nilai1%nilai2)\n",
        "print (nilai1**nilai2)\n",
        "print (nilai1//nilai2)"
      ],
      "metadata": {
        "colab": {
          "base_uri": "https://localhost:8080/"
        },
        "id": "0xLoiRkHvRUD",
        "outputId": "c255d68a-1fcd-4cbf-825e-f3ddb865c736"
      },
      "execution_count": null,
      "outputs": [
        {
          "output_type": "stream",
          "name": "stdout",
          "text": [
            "25\n",
            "15\n",
            "100\n",
            "4.0\n",
            "0\n",
            "3200000\n",
            "4\n"
          ]
        }
      ]
    },
    {
      "cell_type": "markdown",
      "source": [
        "operator penugasan"
      ],
      "metadata": {
        "id": "kBNUlEm2wJJV"
      }
    },
    {
      "cell_type": "code",
      "source": [
        "nilai = 3\n",
        "nilai +=4\n",
        "print (nilai)"
      ],
      "metadata": {
        "colab": {
          "base_uri": "https://localhost:8080/"
        },
        "id": "8kXRwqdUwNdj",
        "outputId": "0409370a-ed70-4d44-e388-cf1a5aa70e99"
      },
      "execution_count": null,
      "outputs": [
        {
          "output_type": "stream",
          "name": "stdout",
          "text": [
            "7\n"
          ]
        }
      ]
    },
    {
      "cell_type": "code",
      "source": [
        "nilai = 3\n",
        "nilai -=4\n",
        "print (nilai)\n"
      ],
      "metadata": {
        "colab": {
          "base_uri": "https://localhost:8080/"
        },
        "id": "g-2mvQXdwr-q",
        "outputId": "55717fa1-1922-4307-b7a2-b77fe18ed843"
      },
      "execution_count": null,
      "outputs": [
        {
          "output_type": "stream",
          "name": "stdout",
          "text": [
            "-1\n"
          ]
        }
      ]
    },
    {
      "cell_type": "code",
      "source": [
        "nilai = 3\n",
        "nilai *=4\n",
        "print (nilai)"
      ],
      "metadata": {
        "colab": {
          "base_uri": "https://localhost:8080/"
        },
        "id": "5wiPsvLdxNoK",
        "outputId": "ea6152e7-3284-412a-eb63-c92d963be3ff"
      },
      "execution_count": null,
      "outputs": [
        {
          "output_type": "stream",
          "name": "stdout",
          "text": [
            "12\n"
          ]
        }
      ]
    },
    {
      "cell_type": "code",
      "source": [
        "nilai = 3\n",
        "nilai /=4\n",
        "print (nilai)"
      ],
      "metadata": {
        "colab": {
          "base_uri": "https://localhost:8080/"
        },
        "id": "c_2C6_0LxZpl",
        "outputId": "cf2e2277-36a3-4b27-ac36-852e0e472e4a"
      },
      "execution_count": null,
      "outputs": [
        {
          "output_type": "stream",
          "name": "stdout",
          "text": [
            "0.75\n"
          ]
        }
      ]
    },
    {
      "cell_type": "code",
      "source": [
        "nilai = 3\n",
        "nilai %=4\n",
        "print (nilai)"
      ],
      "metadata": {
        "colab": {
          "base_uri": "https://localhost:8080/"
        },
        "id": "Irus-R_sxoSw",
        "outputId": "1b556db9-1093-4730-fda4-08ed7f1ee256"
      },
      "execution_count": null,
      "outputs": [
        {
          "output_type": "stream",
          "name": "stdout",
          "text": [
            "3\n"
          ]
        }
      ]
    },
    {
      "cell_type": "code",
      "source": [
        "nilai = 3\n",
        "nilai **=4\n",
        "print (nilai)"
      ],
      "metadata": {
        "colab": {
          "base_uri": "https://localhost:8080/"
        },
        "id": "g8KOIKDJx1Rm",
        "outputId": "0c64f375-9f26-46a2-bd25-1b56ec65acda"
      },
      "execution_count": null,
      "outputs": [
        {
          "output_type": "stream",
          "name": "stdout",
          "text": [
            "81\n"
          ]
        }
      ]
    },
    {
      "cell_type": "code",
      "source": [
        "nilai = 10\n",
        "nilai //=4\n",
        "print (nilai)"
      ],
      "metadata": {
        "colab": {
          "base_uri": "https://localhost:8080/"
        },
        "id": "K2GhderMx9Q3",
        "outputId": "45af1aea-3b45-4bc0-a04d-53efd097f80c"
      },
      "execution_count": null,
      "outputs": [
        {
          "output_type": "stream",
          "name": "stdout",
          "text": [
            "2\n"
          ]
        }
      ]
    },
    {
      "cell_type": "markdown",
      "source": [
        "operator perbandingan"
      ],
      "metadata": {
        "id": "Pw34rzPPycqE"
      }
    },
    {
      "cell_type": "code",
      "source": [
        "nilai = 5\n",
        "if nilai ==5:\n",
        " print (\"nilai tersebut adalah 5\")"
      ],
      "metadata": {
        "colab": {
          "base_uri": "https://localhost:8080/"
        },
        "id": "moOD6H7dygk2",
        "outputId": "4dc347c4-1b0f-46ce-dea6-ee654f3444ca"
      },
      "execution_count": null,
      "outputs": [
        {
          "output_type": "stream",
          "name": "stdout",
          "text": [
            "nilai tersebut adalah 5\n"
          ]
        }
      ]
    },
    {
      "cell_type": "code",
      "source": [
        "nilai = 5\n",
        "if nilai !=6:\n",
        " print (\"nilai tersebut bukan 5\") "
      ],
      "metadata": {
        "colab": {
          "base_uri": "https://localhost:8080/"
        },
        "id": "JQo39mFQy5EN",
        "outputId": "a658c3df-ae7f-4170-a22d-294537d47cf1"
      },
      "execution_count": null,
      "outputs": [
        {
          "output_type": "stream",
          "name": "stdout",
          "text": [
            "nilai tersebut bukan 5\n"
          ]
        }
      ]
    },
    {
      "cell_type": "markdown",
      "source": [
        "percabangan if"
      ],
      "metadata": {
        "id": "f3uHxI2yzmRb"
      }
    },
    {
      "cell_type": "code",
      "source": [
        "nilai = 70\n",
        "if nilai >=80:\n",
        " print (\"lulus\")\n",
        "else:\n",
        "  print(\"tidak lulus\")"
      ],
      "metadata": {
        "colab": {
          "base_uri": "https://localhost:8080/"
        },
        "id": "CPTD5A_wzpF_",
        "outputId": "3ec5ed09-c3b5-4cf3-f67d-5e6dbcfcb27a"
      },
      "execution_count": null,
      "outputs": [
        {
          "output_type": "stream",
          "name": "stdout",
          "text": [
            "tidak lulus\n"
          ]
        }
      ]
    },
    {
      "cell_type": "code",
      "source": [
        "nilai = 90\n",
        "if nilai >=80:\n",
        " print (\"lulus\")\n",
        "else:\n",
        "  print(\"tidak lulus\")"
      ],
      "metadata": {
        "colab": {
          "base_uri": "https://localhost:8080/"
        },
        "id": "CEk8X-kf0D5h",
        "outputId": "823aeafa-5134-4a2b-86d7-8fd4f1120447"
      },
      "execution_count": null,
      "outputs": [
        {
          "output_type": "stream",
          "name": "stdout",
          "text": [
            "lulus\n"
          ]
        }
      ]
    },
    {
      "cell_type": "code",
      "source": [
        "nilai = 40\n",
        "if nilai >=80:\n",
        " print (\"lulus\")\n",
        "else:\n",
        "  print(\"tidak lulus\")"
      ],
      "metadata": {
        "id": "E3XmA_O70K5Y",
        "outputId": "14249829-d464-425f-8bab-6d161acf09f8",
        "colab": {
          "base_uri": "https://localhost:8080/"
        }
      },
      "execution_count": null,
      "outputs": [
        {
          "output_type": "stream",
          "name": "stdout",
          "text": [
            "tidak lulus\n"
          ]
        }
      ]
    }
  ]
}